{
 "cells": [
  {
   "cell_type": "code",
   "execution_count": 207,
   "metadata": {},
   "outputs": [
    {
     "name": "stdout",
     "output_type": "stream",
     "text": [
      "Please, enter the number:\n",
      "4\n",
      "Patrion is: 1\n"
     ]
    }
   ],
   "source": [
    "## Пирус Анастасия\n",
    "## Tack 2\n",
    "def partion(number):\n",
    "    solution = []\n",
    "    if number <= 1:\n",
    "        return 0\n",
    "    else:\n",
    "        count = 0\n",
    "        end = int(number//2)\n",
    "        for i in range(1,end):\n",
    "            enum = range(number - 1,end,-1)\n",
    "            solution = list(enumerate(enum))\n",
    "        else:\n",
    "            return len(solution)\n",
    "\n",
    "if __name__ == '__main__':\n",
    "    print('Please, enter the number:')\n",
    "    number = int(input())\n",
    "    print('Patrion is:', partion(number))"
   ]
  },
  {
   "cell_type": "code",
   "execution_count": 238,
   "metadata": {},
   "outputs": [],
   "source": [
    "## Пирус Анастасия\n",
    "## Tack 1\n",
    "## input(25) -> None\n",
    "## input(25+5) ->30\n",
    "\n",
    "def solution(string):\n",
    "    sign = '+-*'\n",
    "    element_start = []\n",
    "    element_end = []\n",
    "    value = []\n",
    "    if string[0] != 0 and string[0].isdigit():\n",
    "        for i in range(0,len(string)):\n",
    "            if string[i].isdigit():\n",
    "                value += string[i]\n",
    "            else:\n",
    "                if string[i] in sign:\n",
    "                    element_start.append(int(string[0:i-1]))\n",
    "                    element_end.append(int(string[i+1:]))\n",
    "                    signature = string[i]\n",
    "                    value = calculate(element_start,element_end,signature)\n",
    "        return value\n",
    "    else:\n",
    "        return False\n",
    "\n",
    "def calculate(number1, number2, sign):\n",
    "    if sign == '+':\n",
    "        return number1 + number2\n",
    "    elif sign == '-':\n",
    "        return number1 - number2\n",
    "    elif sign == '*':\n",
    "        return number1 * number2"
   ]
  },
  {
   "cell_type": "code",
   "execution_count": 239,
   "metadata": {},
   "outputs": [
    {
     "data": {
      "text/plain": [
       "[1, 12, '1', '2']"
      ]
     },
     "execution_count": 239,
     "metadata": {},
     "output_type": "execute_result"
    }
   ],
   "source": [
    "a = '12+12'\n",
    "#a[0:2]\n",
    "solution(a)"
   ]
  },
  {
   "cell_type": "code",
   "execution_count": 89,
   "metadata": {},
   "outputs": [
    {
     "data": {
      "text/plain": [
       "-11"
      ]
     },
     "execution_count": 89,
     "metadata": {},
     "output_type": "execute_result"
    }
   ],
   "source": [
    "calculate(int(a[0:1]),int(a[2:]),a[1])"
   ]
  },
  {
   "cell_type": "code",
   "execution_count": 137,
   "metadata": {},
   "outputs": [
    {
     "data": {
      "text/plain": [
       "['11', '12']"
      ]
     },
     "execution_count": 137,
     "metadata": {},
     "output_type": "execute_result"
    }
   ],
   "source": [
    "import re\n",
    "a = '11-12'\n",
    "a = a.split(sign)\n",
    "a"
   ]
  },
  {
   "cell_type": "code",
   "execution_count": 128,
   "metadata": {},
   "outputs": [
    {
     "ename": "ValueError",
     "evalue": "invalid literal for int() with base 10: ''",
     "output_type": "error",
     "traceback": [
      "\u001b[0;31m---------------------------------------------------------------------------\u001b[0m",
      "\u001b[0;31mValueError\u001b[0m                                Traceback (most recent call last)",
      "\u001b[0;32m<ipython-input-128-dec0bea5e1b8>\u001b[0m in \u001b[0;36m<module>\u001b[0;34m()\u001b[0m\n\u001b[0;32m----> 1\u001b[0;31m \u001b[0mint\u001b[0m\u001b[0;34m(\u001b[0m\u001b[0ma\u001b[0m\u001b[0;34m[\u001b[0m\u001b[0;36m0\u001b[0m\u001b[0;34m:\u001b[0m\u001b[0;36m0\u001b[0m\u001b[0;34m]\u001b[0m\u001b[0;34m)\u001b[0m\u001b[0;34m\u001b[0m\u001b[0m\n\u001b[0m",
      "\u001b[0;31mValueError\u001b[0m: invalid literal for int() with base 10: ''"
     ]
    }
   ],
   "source": [
    "int(a[0:0])"
   ]
  },
  {
   "cell_type": "code",
   "execution_count": 167,
   "metadata": {},
   "outputs": [
    {
     "data": {
      "text/plain": [
       "[11, 12]"
      ]
     },
     "execution_count": 167,
     "metadata": {},
     "output_type": "execute_result"
    }
   ],
   "source": [
    "list1 = []\n",
    "a = '11'\n",
    "b = '12'\n",
    "list1.append(int(a))\n",
    "list1.append(int(b))\n",
    "list1"
   ]
  },
  {
   "cell_type": "code",
   "execution_count": 164,
   "metadata": {},
   "outputs": [
    {
     "name": "stdout",
     "output_type": "stream",
     "text": [
      "None\n"
     ]
    }
   ],
   "source": [
    "print(list1)"
   ]
  },
  {
   "cell_type": "code",
   "execution_count": null,
   "metadata": {},
   "outputs": [],
   "source": []
  }
 ],
 "metadata": {
  "kernelspec": {
   "display_name": "Python 3",
   "language": "python",
   "name": "python3"
  },
  "language_info": {
   "codemirror_mode": {
    "name": "ipython",
    "version": 3
   },
   "file_extension": ".py",
   "mimetype": "text/x-python",
   "name": "python",
   "nbconvert_exporter": "python",
   "pygments_lexer": "ipython3",
   "version": "3.6.5"
  }
 },
 "nbformat": 4,
 "nbformat_minor": 2
}
