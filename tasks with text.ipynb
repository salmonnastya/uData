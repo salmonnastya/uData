{
 "cells": [
  {
   "cell_type": "markdown",
   "metadata": {},
   "source": [
    "# Task 1"
   ]
  },
  {
   "cell_type": "code",
   "execution_count": 8,
   "metadata": {},
   "outputs": [
    {
     "name": "stdout",
     "output_type": "stream",
     "text": [
      "Написать программу, которая перемешивает символы в словах заданного текста. При этом текст после перестановок должен оставаться читабельным.\n",
      "Нсааитпь пормгамру, катороя пмваиеершеет свмиолы в сволах знаонагдо тсткеа. При этом ткест плосе псареотвенок джеолн оаавстсьтя чыаблньетим.\n"
     ]
    }
   ],
   "source": [
    "import random\n",
    "import re\n",
    "\n",
    "def shuffle_word(word):\n",
    "        str_shuffle = list(word)\n",
    "        n = len(str_shuffle)\n",
    "        shufle_word = []\n",
    "        if n <= 3:\n",
    "            shufle_word = ''.join(map(str, str_shuffle))\n",
    "        else:\n",
    "            for current_index in range(1,n-1):\n",
    "                random_index = random.randrange(1,n-1)\n",
    "                str_shuffle[current_index], str_shuffle[random_index] = str_shuffle[random_index], str_shuffle[current_index]  \n",
    "        shufle_word = ''.join(map(str, str_shuffle)) \n",
    "        return shufle_word  \n",
    "    \n",
    "def shuffle_string(string):\n",
    "    string = re.split('(\\w+)',string)\n",
    "    chars = list(string)\n",
    "    shufle_word = []\n",
    "    shuffle_string = []\n",
    "    for i in range(len(chars)):\n",
    "        shufle_word = shuffle_word(chars[i])\n",
    "        shuffle_string.append(shufle_word)\n",
    "    shuffle_string = ''.join(map(str, shuffle_string))  \n",
    "    return shuffle_string\n",
    "\n",
    "if __name__ == '__main__':\n",
    "    string = str(input())\n",
    "    string = shuffle_string(string)\n",
    "    print(string)"
   ]
  },
  {
   "cell_type": "markdown",
   "metadata": {},
   "source": [
    "### Task 1 with class"
   ]
  },
  {
   "cell_type": "code",
   "execution_count": 10,
   "metadata": {},
   "outputs": [
    {
     "name": "stdout",
     "output_type": "stream",
     "text": [
      "Написать программу, которая перемешивает символы в словах заданного текста. При этом текст после перестановок должен оставаться читабельным.\n",
      "Наатиспь поммраргу, ктоароя пемриешаеевт слмвиоы в солвах згонаадно тткеса. При этом тескт псоле пнеосовтаерк длежон оататвссья чабнтыьеилм.\n"
     ]
    }
   ],
   "source": [
    "import random\n",
    "import re\n",
    "\n",
    "class StringClass:\n",
    "    \n",
    "    def __init__(self,string):\n",
    "        self.string = re.split('(\\w+)',string)\n",
    "    \n",
    "    def shuffle_word(self, word):\n",
    "        str_shuffle = list(word)\n",
    "        n = len(str_shuffle)\n",
    "        shufle_word = []\n",
    "        if n <= 3:\n",
    "            shufle_word = ''.join(map(str, str_shuffle))\n",
    "        else:\n",
    "            for current_index in range(1,n-1):\n",
    "                random_index = random.randrange(1,n-1)\n",
    "                str_shuffle[current_index], str_shuffle[random_index] = str_shuffle[random_index], str_shuffle[current_index]  \n",
    "        shufle_word = ''.join(map(str, str_shuffle)) \n",
    "        return shufle_word  \n",
    "    \n",
    "    def shuffle_string(self):\n",
    "        chars = list(self.string)\n",
    "        shufle_word = []\n",
    "        shuffle_string = []\n",
    "        for i in range(len(chars)):\n",
    "            shufle_word = self.shuffle_word(chars[i])\n",
    "            shuffle_string.append(shufle_word)\n",
    "        shuffle_string = ''.join(map(str, shuffle_string))  \n",
    "        return shuffle_string\n",
    "\n",
    "if __name__ == '__main__':\n",
    "    string_class = StringClass(str(input()))\n",
    "    shuffled = string_class.shuffle_string()\n",
    "    print(shuffled)"
   ]
  },
  {
   "cell_type": "markdown",
   "metadata": {},
   "source": [
    "# Task 2"
   ]
  },
  {
   "cell_type": "code",
   "execution_count": 136,
   "metadata": {},
   "outputs": [
    {
     "name": "stdout",
     "output_type": "stream",
     "text": [
      "Let it be, let it be, let it be, let it be\n",
      "Let it be, let it be, let it be, let it be\n",
      "Let it be, let it be, let it be, let it be -> etL ti e,b tle ti ,be etl ti ,be tle ti eb   mark is:(0)\n"
     ]
    }
   ],
   "source": [
    "import random\n",
    "import re\n",
    " \n",
    "def count(string,string_new):\n",
    "    return sum(str1 == str2 for str1,str2 in zip(string, string_new))\n",
    "\n",
    "def best_shuffle_word(word):\n",
    "        str_shuffle = list(word)\n",
    "        n = len(str_shuffle)\n",
    "        shuffle_word = []\n",
    "        for current_index in range(n):\n",
    "            random_index = random.randrange(n)\n",
    "            str_shuffle[current_index], str_shuffle[random_index] = str_shuffle[random_index], str_shuffle[current_index]  \n",
    "        for i in range(n):\n",
    "            for j in range(n):\n",
    "                if i != j and str_shuffle[j] != str_shuffle[i] and word[i] != str_shuffle[j] and word[j] != str_shuffle[i]:\n",
    "                    str_shuffle[j], str_shuffle[i] = str_shuffle[i], str_shuffle[j]\n",
    "                    break\n",
    "            shuffle_word = ''.join(map(str, str_shuffle)) \n",
    "        return shuffle_word\n",
    "\n",
    "def best_shuffle_string(string):\n",
    "    string = string.split()\n",
    "    chars = list(string)\n",
    "    shuffle_word = []\n",
    "    shuffle_string = []\n",
    "    for i in range(len(chars)):\n",
    "        shuffle_word = best_shuffle_word(chars[i])\n",
    "        shuffle_string.append(shuffle_word)\n",
    "    shuffle_string = ' '.join(map(str, shuffle_string))\n",
    "    mark = count(string, shuffle_string)\n",
    "    return shuffle_string, mark\n",
    "\n",
    "if __name__ == '__main__':\n",
    "    test_words = str(input())\n",
    "    print(test_words)\n",
    "    shuffled_str, mark = best_shuffle_string(test_words)\n",
    "    print(\"%s -> %-s   mark is:(%i)\" % (test_words, shuffled_str, mark))\n",
    "    "
   ]
  },
  {
   "cell_type": "code",
   "execution_count": null,
   "metadata": {},
   "outputs": [],
   "source": []
  }
 ],
 "metadata": {
  "kernelspec": {
   "display_name": "Python 3",
   "language": "python",
   "name": "python3"
  },
  "language_info": {
   "codemirror_mode": {
    "name": "ipython",
    "version": 3
   },
   "file_extension": ".py",
   "mimetype": "text/x-python",
   "name": "python",
   "nbconvert_exporter": "python",
   "pygments_lexer": "ipython3",
   "version": "3.6.5"
  }
 },
 "nbformat": 4,
 "nbformat_minor": 2
}
