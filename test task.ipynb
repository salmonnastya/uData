{
 "cells": [
  {
   "cell_type": "code",
   "execution_count": 52,
   "metadata": {},
   "outputs": [
    {
     "name": "stdout",
     "output_type": "stream",
     "text": [
      "First number is: 30109\n",
      "Second number is: 33211\n",
      "Maximume multiplication is: 999949999\n"
     ]
    }
   ],
   "source": [
    "# Пирус Анастасия\n",
    "#  1. найти два простых пятизначных числа\n",
    "#  2. найти их произведение\n",
    "#  3. если это число полиндром - записать в массив\n",
    "#  4. найти максимальный элемент массива\n",
    "\n",
    "#  Поиск простого числа реализован с помощью алгоритма Решето Эратосфена \n",
    "import numpy as np\n",
    "\n",
    "def find_prime(n):\n",
    "    prime_array = list(range(n)) #создали массив всех чисел от 10000 до n\n",
    "    prime_array[1] = 0    # единица не считается простым числом, на ее место ставим 0\n",
    "    i = 2 #т.к первые два уже нули, то начинаем проверку с 3- го элемента\n",
    "    while i<n:\n",
    "        if prime_array[i] != 0: #если элемент массива не нулевой то\n",
    "            pair_num = i*2 #увеличиваем данный элемент в два раза\n",
    "            while pair_num<n: #на место составных чисел пишем нули\n",
    "                prime_array[pair_num] = 0\n",
    "                pair_num = pair_num +i\n",
    "        i += 1\n",
    "    prime = [] #массив для хранения всех простых чисел в промежутке\n",
    "    for i in prime_array:\n",
    "        if prime_array[i] != 0:\n",
    "            prime.append(prime_array[i])#заполняем массив не нулевыми элементами в массиве с простыми числами\n",
    "    return prime #возвращаем массив\n",
    "\n",
    "# Нахождение произведения комбинации чисел в массиве и проверка является ли число на полиндромом\n",
    "def check_polimdrom(array):\n",
    "    polindrom = []\n",
    "    for i,num1 in enumerate(array):\n",
    "        for num2 in array[i+1:]:\n",
    "            multiplication = num1*num2\n",
    "            if str(multiplication) == str(multiplication)[::-1]: # сравниваем число и число записанное наоборот, если они совпадают, то\n",
    "                polindrom.append([num1, num2,multiplication])    #записываем в матрицу значения чисел и их произведение          \n",
    "    return polindrom\n",
    "\n",
    "#Нахождение максимального полиндрома\n",
    "def find_max(matrix):\n",
    "    maxel = matrix[0][2] #приваиваем максимальному элементу значение третьего элемента в первой строке матрици \n",
    "    for i in range(len(matrix)):\n",
    "        if matrix[i][2] > maxel:#если элемент матрицы больше, то переприсваеваем значение\n",
    "            matrixrow = matrix[i]#запоминаем строку в матрице, где был обнаружен максимальный элемент\n",
    "            maxel = matrix[i][2]\n",
    "    return matrixrow\n",
    "\n",
    "if __name__ == \"__main__\":\n",
    "    prime = [p for p in find_prime(10**5) if p>10**4]\n",
    "    multi_prime = check_polimdrom(prime)\n",
    "    maxrow = find_max(multi_prime)\n",
    "    #print('First number is:', maxrow[0], 'Second number is:', maxrow[1], 'Maximume multiplication is:', maxrow[2])\n",
    "    print('First number is: {0}\\nSecond number is: {1}\\nMaximume multiplication is: {2}'.format(maxrow[0],maxrow[1],maxrow[2]))"
   ]
  },
  {
   "cell_type": "code",
   "execution_count": null,
   "metadata": {},
   "outputs": [],
   "source": []
  }
 ],
 "metadata": {
  "kernelspec": {
   "display_name": "Python 3",
   "language": "python",
   "name": "python3"
  },
  "language_info": {
   "codemirror_mode": {
    "name": "ipython",
    "version": 3
   },
   "file_extension": ".py",
   "mimetype": "text/x-python",
   "name": "python",
   "nbconvert_exporter": "python",
   "pygments_lexer": "ipython3",
   "version": "3.6.5"
  }
 },
 "nbformat": 4,
 "nbformat_minor": 2
}
